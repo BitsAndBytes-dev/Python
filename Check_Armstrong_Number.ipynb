{
  "cells": [
    {
      "cell_type": "markdown",
      "metadata": {
        "id": "view-in-github",
        "colab_type": "text"
      },
      "source": [
        "<a href=\"https://colab.research.google.com/github/KangMonkey/Python/blob/master/Check_Armstrong_Number.ipynb\" target=\"_parent\"><img src=\"https://colab.research.google.com/assets/colab-badge.svg\" alt=\"Open In Colab\"/></a>"
      ]
    },
    {
      "cell_type": "code",
      "source": [
        "def check_armstrong(n):\n",
        "\tn = str(n)\n",
        "\tx = len(n)\n",
        "\tresult = 0\n",
        "\tfor i in n:\n",
        "\t\tresult += pow(int(i), x)\n",
        "\t\tif ( result > int(n) ):\n",
        "\t\t\tbreak\n",
        "\tif ( int(n) == result ):\n",
        "\t\treturn True\n",
        "\telse:\n",
        "\t\treturn False\n",
        "n = input('Enter a number: ')\n",
        "print(check_armstrong(n))"
      ],
      "metadata": {
        "id": "rRUQ4y6iAO_S",
        "outputId": "f8717d61-e3db-435b-fb1d-8fbebb3bc037",
        "colab": {
          "base_uri": "https://localhost:8080/"
        }
      },
      "execution_count": 22,
      "outputs": [
        {
          "output_type": "stream",
          "name": "stdout",
          "text": [
            "Enter a number: 153\n",
            "True\n"
          ]
        }
      ]
    }
  ],
  "metadata": {
    "colab": {
      "collapsed_sections": [],
      "name": "Welcome To Colaboratory",
      "toc_visible": true,
      "provenance": [],
      "include_colab_link": true
    },
    "kernelspec": {
      "display_name": "Python 3",
      "name": "python3"
    }
  },
  "nbformat": 4,
  "nbformat_minor": 0
}